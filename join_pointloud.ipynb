{
 "cells": [
  {
   "cell_type": "code",
   "execution_count": 1,
   "metadata": {},
   "outputs": [],
   "source": [
    "import slamBase as sb\n",
    "import cv2\n",
    "import numpy as np"
   ]
  },
  {
   "cell_type": "code",
   "execution_count": 2,
   "metadata": {},
   "outputs": [],
   "source": [
    "# Load Images to List\n",
    "imgPath = '/home/lin/RGBD_slam/data/temp/'\n",
    "cameraDataPath = '/home/lin/RGBD_slam/data/kinect.yml'\n"
   ]
  },
  {
   "cell_type": "code",
   "execution_count": 7,
   "metadata": {},
   "outputs": [],
   "source": [
    "rgbList = []\n",
    "depthList = []\n",
    "\n",
    "for i in range(1,6):\n",
    "    rgbList.append( cv2.imread(imgPath + 'rgb{}.png'.format(i)) )\n",
    "    depthList.append( cv2.imread(imgPath + 'depth{}.png'.format(i),cv2.COLOR_BGR2GRAY))"
   ]
  },
  {
   "cell_type": "code",
   "execution_count": 8,
   "metadata": {},
   "outputs": [],
   "source": [
    "cv2.imshow('test', rgbList[0])\n",
    "cv2.waitKey(0)\n",
    "cv2.destroyAllWindows()"
   ]
  },
  {
   "cell_type": "code",
   "execution_count": 9,
   "metadata": {},
   "outputs": [],
   "source": [
    "camera = sb.Camera(cameraDataPath)\n",
    "pnp = sb.SolvePnP(camera)\n",
    "\n",
    "#sb.imageToPointCloud(rgbList[4],depthList[4],camera,cloudFileName = imgPath + 'milkTea.pcd')\n"
   ]
  },
  {
   "cell_type": "code",
   "execution_count": 10,
   "metadata": {},
   "outputs": [],
   "source": [
    "frameList = []\n",
    "for i in xrange(len(rgbList)):\n",
    "    frameList.append(sb.FramePC(rgbList[i], depthList[i], camera))"
   ]
  },
  {
   "cell_type": "code",
   "execution_count": 11,
   "metadata": {},
   "outputs": [
    {
     "name": "stdout",
     "output_type": "stream",
     "text": [
      "5\n"
     ]
    }
   ],
   "source": [
    "print len(frameList)"
   ]
  },
  {
   "cell_type": "code",
   "execution_count": 12,
   "metadata": {},
   "outputs": [
    {
     "name": "stdout",
     "output_type": "stream",
     "text": [
      "good matches = 154\n",
      "solving PnP\n",
      "good matches = 144\n",
      "solving PnP\n",
      "good matches = 77\n",
      "solving PnP\n",
      "good matches = 30\n",
      "solving PnP\n"
     ]
    }
   ],
   "source": [
    "TM = []\n",
    "for i in xrange(len(frameList) - 1):\n",
    "    TM_ = pnp.solveFrame(frameList[i+1], frameList[i])\n",
    "    TM.append(TM_)"
   ]
  },
  {
   "cell_type": "code",
   "execution_count": 13,
   "metadata": {},
   "outputs": [
    {
     "name": "stdout",
     "output_type": "stream",
     "text": [
      "[[ 0.9865636  -0.12261025  0.10797678 -0.05134284]\n",
      " [ 0.11083561  0.98783983  0.10903184 -0.02530667]\n",
      " [-0.12003218 -0.09559918  0.9881564   0.02709046]\n",
      " [ 0.          0.          0.          1.        ]]\n",
      "[[ 0.95066495 -0.23146569  0.20654245 -0.09708683]\n",
      " [ 0.19175045  0.96181647  0.19529683 -0.05400729]\n",
      " [-0.24386045 -0.14605724  0.95874885  0.06267331]\n",
      " [ 0.          0.          0.          1.        ]]\n",
      "[[ 0.95066495 -0.23146569  0.20654245 -0.09708683]\n",
      " [ 0.19175045  0.96181647  0.19529683 -0.05400729]\n",
      " [-0.24386045 -0.14605724  0.95874885  0.06267331]\n",
      " [ 0.          0.          0.          1.        ]]\n",
      "[[-0.61548909  0.78644043  0.05181341 -0.10576314]\n",
      " [-0.42047332 -0.27204753 -0.86555897  0.41679557]\n",
      " [-0.66661486 -0.55452826  0.4981195  -0.31484991]\n",
      " [ 0.          0.          0.          1.        ]]\n"
     ]
    }
   ],
   "source": [
    "PC_joined = frameList[0].pointCloud\n",
    "for i in range(len(frameList) - 1):\n",
    "    T = np.identity(4)\n",
    "    for l in range(i+1):\n",
    "        T = np.dot(T, TM[l])\n",
    "    PC_transformed = sb.transformPC(frameList[i + 1].pointCloud, TransformMatrix=T)\n",
    "    PC_joined = np.concatenate((PC_joined, PC_transformed),axis=0)\n",
    "    "
   ]
  },
  {
   "cell_type": "code",
   "execution_count": 14,
   "metadata": {},
   "outputs": [
    {
     "name": "stdout",
     "output_type": "stream",
     "text": [
      "(173959, 3)\n"
     ]
    }
   ],
   "source": [
    "print PC_joined.shape"
   ]
  },
  {
   "cell_type": "code",
   "execution_count": 15,
   "metadata": {},
   "outputs": [],
   "source": [
    "colors_joined = []\n",
    "for i in xrange(len(frameList)):\n",
    "    colors_joined += frameList[i].colors"
   ]
  },
  {
   "cell_type": "code",
   "execution_count": 16,
   "metadata": {},
   "outputs": [
    {
     "name": "stdout",
     "output_type": "stream",
     "text": [
      "PCD file Saved\n"
     ]
    }
   ],
   "source": [
    "sb.savePC(PC_joined,imgPath + 'yanhe.pcd',colors_joined)"
   ]
  },
  {
   "cell_type": "code",
   "execution_count": null,
   "metadata": {},
   "outputs": [],
   "source": []
  }
 ],
 "metadata": {
  "kernelspec": {
   "display_name": "Python 2",
   "language": "python",
   "name": "python2"
  },
  "language_info": {
   "codemirror_mode": {
    "name": "ipython",
    "version": 2
   },
   "file_extension": ".py",
   "mimetype": "text/x-python",
   "name": "python",
   "nbconvert_exporter": "python",
   "pygments_lexer": "ipython2",
   "version": "2.7.12"
  }
 },
 "nbformat": 4,
 "nbformat_minor": 2
}
